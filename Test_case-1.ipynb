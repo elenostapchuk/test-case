{
  "nbformat": 4,
  "nbformat_minor": 0,
  "metadata": {
    "colab": {
      "name": "Test_case.ipynb",
      "provenance": []
    },
    "kernelspec": {
      "name": "python3",
      "display_name": "Python 3"
    },
    "language_info": {
      "name": "python"
    }
  },
  "cells": [
    {
      "cell_type": "code",
      "metadata": {
        "colab": {
          "base_uri": "https://localhost:8080/"
        },
        "id": "G8vT87wANC2r",
        "outputId": "ae939115-9716-4ba4-d445-0e12397f299b"
      },
      "source": [
        "from google.colab import auth\n",
        "auth.authenticate_user()\n",
        "print('Authenticated')"
      ],
      "execution_count": 4,
      "outputs": [
        {
          "output_type": "stream",
          "text": [
            "Go to the following link in your browser:\n",
            "\n",
            "    https://accounts.google.com/o/oauth2/auth?response_type=code&client_id=32555940559.apps.googleusercontent.com&redirect_uri=urn%3Aietf%3Awg%3Aoauth%3A2.0%3Aoob&scope=openid+https%3A%2F%2Fwww.googleapis.com%2Fauth%2Fuserinfo.email+https%3A%2F%2Fwww.googleapis.com%2Fauth%2Fcloud-platform+https%3A%2F%2Fwww.googleapis.com%2Fauth%2Fappengine.admin+https%3A%2F%2Fwww.googleapis.com%2Fauth%2Fcompute+https%3A%2F%2Fwww.googleapis.com%2Fauth%2Faccounts.reauth+https%3A%2F%2Fwww.googleapis.com%2Fauth%2Fdrive&state=ehyrPuoIgQksnEJFWOjTauL3OlKoz6&prompt=consent&access_type=offline&code_challenge=fLL9sEfhFfT4W5IMKnF5lBpruzHVB1CcADRGciCtbHI&code_challenge_method=S256\n",
            "\n",
            "Enter verification code: 4/1AX4XfWhh9xRsD0jj4tcV-jF7gXbRIguQd7nctTI2Kp048Swt_O94LKmGgcQ\n",
            "Authenticated\n"
          ],
          "name": "stdout"
        }
      ]
    },
    {
      "cell_type": "code",
      "metadata": {
        "id": "6cjY99jDQZke",
        "colab": {
          "base_uri": "https://localhost:8080/"
        },
        "outputId": "43eaa4e2-95b7-4211-be9f-2b4eac5c310d"
      },
      "source": [
        "%load_ext google.colab.data_table"
      ],
      "execution_count": 6,
      "outputs": [
        {
          "output_type": "stream",
          "text": [
            "The google.colab.data_table extension is already loaded. To reload it, use:\n",
            "  %reload_ext google.colab.data_table\n"
          ],
          "name": "stdout"
        }
      ]
    },
    {
      "cell_type": "code",
      "metadata": {
        "id": "1lwtrljEzt4H",
        "colab": {
          "base_uri": "https://localhost:8080/",
          "height": 113
        },
        "outputId": "5a4524db-468e-44ba-8f2f-44277b7052b2"
      },
      "source": [
        "# 1 What is the average number of transactions per purchaser?\n",
        "%%bigquery --project vigilant-result-285814 \n",
        "SELECT AVG(totals.transactions)\n",
        "FROM `bigquery-public-data.google_analytics_sample.ga_sessions_*`"
      ],
      "execution_count": 7,
      "outputs": [
        {
          "output_type": "execute_result",
          "data": {
            "application/vnd.google.colaboratory.module+javascript": "\n      import \"https://ssl.gstatic.com/colaboratory/data_table/a6224c040fa35dcf/data_table.js\";\n\n      window.createDataTable({\n        data: [[{\n            'v': 0,\n            'f': \"0\",\n        },\n{\n            'v': 1.048736149584488,\n            'f': \"1.048736149584488\",\n        }]],\n        columns: [[\"number\", \"index\"], [\"number\", \"f0_\"]],\n        columnOptions: [{\"width\": \"1px\", \"className\": \"index_column\"}],\n        rowsPerPage: 25,\n        helpUrl: \"https://colab.research.google.com/notebooks/data_table.ipynb\",\n        suppressOutputScrolling: true,\n        minimumWidth: undefined,\n      });\n    ",
            "text/html": [
              "<div>\n",
              "<style scoped>\n",
              "    .dataframe tbody tr th:only-of-type {\n",
              "        vertical-align: middle;\n",
              "    }\n",
              "\n",
              "    .dataframe tbody tr th {\n",
              "        vertical-align: top;\n",
              "    }\n",
              "\n",
              "    .dataframe thead th {\n",
              "        text-align: right;\n",
              "    }\n",
              "</style>\n",
              "<table border=\"1\" class=\"dataframe\">\n",
              "  <thead>\n",
              "    <tr style=\"text-align: right;\">\n",
              "      <th></th>\n",
              "      <th>f0_</th>\n",
              "    </tr>\n",
              "  </thead>\n",
              "  <tbody>\n",
              "    <tr>\n",
              "      <th>0</th>\n",
              "      <td>1.048736</td>\n",
              "    </tr>\n",
              "  </tbody>\n",
              "</table>\n",
              "</div>"
            ],
            "text/plain": [
              "        f0_\n",
              "0  1.048736"
            ]
          },
          "metadata": {
            "tags": []
          },
          "execution_count": 7
        }
      ]
    },
    {
      "cell_type": "code",
      "metadata": {
        "id": "peqjbpLn2UHo",
        "colab": {
          "base_uri": "https://localhost:8080/",
          "height": 113
        },
        "outputId": "e45c3605-83d2-4658-be69-17b25efd4a73"
      },
      "source": [
        "# 2 Calculate the average number of transactions per purchaser for April 2017\n",
        "%%bigquery --project vigilant-result-285814\n",
        "SELECT AVG(totals.transactions)\n",
        "FROM `bigquery-public-data.google_analytics_sample.ga_sessions_*`\n",
        "WHERE\n",
        "_TABLE_SUFFIX BETWEEN '20170401' AND '20170431'"
      ],
      "execution_count": 8,
      "outputs": [
        {
          "output_type": "execute_result",
          "data": {
            "application/vnd.google.colaboratory.module+javascript": "\n      import \"https://ssl.gstatic.com/colaboratory/data_table/a6224c040fa35dcf/data_table.js\";\n\n      window.createDataTable({\n        data: [[{\n            'v': 0,\n            'f': \"0\",\n        },\n{\n            'v': 1.033405172413793,\n            'f': \"1.033405172413793\",\n        }]],\n        columns: [[\"number\", \"index\"], [\"number\", \"f0_\"]],\n        columnOptions: [{\"width\": \"1px\", \"className\": \"index_column\"}],\n        rowsPerPage: 25,\n        helpUrl: \"https://colab.research.google.com/notebooks/data_table.ipynb\",\n        suppressOutputScrolling: true,\n        minimumWidth: undefined,\n      });\n    ",
            "text/html": [
              "<div>\n",
              "<style scoped>\n",
              "    .dataframe tbody tr th:only-of-type {\n",
              "        vertical-align: middle;\n",
              "    }\n",
              "\n",
              "    .dataframe tbody tr th {\n",
              "        vertical-align: top;\n",
              "    }\n",
              "\n",
              "    .dataframe thead th {\n",
              "        text-align: right;\n",
              "    }\n",
              "</style>\n",
              "<table border=\"1\" class=\"dataframe\">\n",
              "  <thead>\n",
              "    <tr style=\"text-align: right;\">\n",
              "      <th></th>\n",
              "      <th>f0_</th>\n",
              "    </tr>\n",
              "  </thead>\n",
              "  <tbody>\n",
              "    <tr>\n",
              "      <th>0</th>\n",
              "      <td>1.033405</td>\n",
              "    </tr>\n",
              "  </tbody>\n",
              "</table>\n",
              "</div>"
            ],
            "text/plain": [
              "        f0_\n",
              "0  1.033405"
            ]
          },
          "metadata": {
            "tags": []
          },
          "execution_count": 8
        }
      ]
    },
    {
      "cell_type": "code",
      "metadata": {
        "id": "GcVUiu9d1fjE",
        "colab": {
          "base_uri": "https://localhost:8080/",
          "height": 623
        },
        "outputId": "c048c76e-0b8c-445c-fc03-b8d636e3a222"
      },
      "source": [
        "# 3 What is the total number of transactions generated per device browser?\n",
        "%%bigquery --project vigilant-result-285814\n",
        "SELECT device.browser, \n",
        "SUM(totals.transactions) as total_transactions\n",
        "FROM `bigquery-public-data.google_analytics_sample.ga_sessions_*` \n",
        "GROUP BY device.browser"
      ],
      "execution_count": 9,
      "outputs": [
        {
          "output_type": "execute_result",
          "data": {
            "application/vnd.google.colaboratory.module+javascript": "\n      import \"https://ssl.gstatic.com/colaboratory/data_table/a6224c040fa35dcf/data_table.js\";\n\n      window.createDataTable({\n        data: [[{\n            'v': 0,\n            'f': \"0\",\n        },\n\"NokiaE52-1\",\n{\n            'v': NaN,\n            'f': \"NaN\",\n        }],\n [{\n            'v': 1,\n            'f': \"1\",\n        },\n\"Nokia Browser\",\n{\n            'v': NaN,\n            'f': \"NaN\",\n        }],\n [{\n            'v': 2,\n            'f': \"2\",\n        },\n\"Hisense M20-M_LTE\",\n{\n            'v': NaN,\n            'f': \"NaN\",\n        }],\n [{\n            'v': 3,\n            'f': \"3\",\n        },\n\"Coc Coc\",\n{\n            'v': NaN,\n            'f': \"NaN\",\n        }],\n [{\n            'v': 4,\n            'f': \"4\",\n        },\n\"HTC802t_TD\",\n{\n            'v': NaN,\n            'f': \"NaN\",\n        }],\n [{\n            'v': 5,\n            'f': \"5\",\n        },\n\"no-ua\",\n{\n            'v': NaN,\n            'f': \"NaN\",\n        }],\n [{\n            'v': 6,\n            'f': \"6\",\n        },\n\"UC Browser\",\n{\n            'v': NaN,\n            'f': \"NaN\",\n        }],\n [{\n            'v': 7,\n            'f': \"7\",\n        },\n\"SeaMonkey\",\n{\n            'v': NaN,\n            'f': \"NaN\",\n        }],\n [{\n            'v': 8,\n            'f': \"8\",\n        },\n\"Edge\",\n{\n            'v': 59.0,\n            'f': \"59.0\",\n        }],\n [{\n            'v': 9,\n            'f': \"9\",\n        },\n\"Seznam\",\n{\n            'v': NaN,\n            'f': \"NaN\",\n        }],\n [{\n            'v': 10,\n            'f': \"10\",\n        },\n\"subjectAgent: NoticiasBoom\",\n{\n            'v': NaN,\n            'f': \"NaN\",\n        }],\n [{\n            'v': 11,\n            'f': \"11\",\n        },\n\"LYF_LS_4002_11\",\n{\n            'v': NaN,\n            'f': \"NaN\",\n        }],\n [{\n            'v': 12,\n            'f': \"12\",\n        },\n\"M5\",\n{\n            'v': NaN,\n            'f': \"NaN\",\n        }],\n [{\n            'v': 13,\n            'f': \"13\",\n        },\n\"IE with Chrome Frame\",\n{\n            'v': NaN,\n            'f': \"NaN\",\n        }],\n [{\n            'v': 14,\n            'f': \"14\",\n        },\n\"Opera Mini\",\n{\n            'v': NaN,\n            'f': \"NaN\",\n        }],\n [{\n            'v': 15,\n            'f': \"15\",\n        },\n\"YaBrowser\",\n{\n            'v': NaN,\n            'f': \"NaN\",\n        }],\n [{\n            'v': 16,\n            'f': \"16\",\n        },\n\"DoCoMo\",\n{\n            'v': NaN,\n            'f': \"NaN\",\n        }],\n [{\n            'v': 17,\n            'f': \"17\",\n        },\n\"Chrome\",\n{\n            'v': 10924.0,\n            'f': \"10924.0\",\n        }],\n [{\n            'v': 18,\n            'f': \"18\",\n        },\n\"ThumbSniper\",\n{\n            'v': NaN,\n            'f': \"NaN\",\n        }],\n [{\n            'v': 19,\n            'f': \"19\",\n        },\n\"[Use default User-agent string] LIVRENPOCHE\",\n{\n            'v': NaN,\n            'f': \"NaN\",\n        }],\n [{\n            'v': 20,\n            'f': \"20\",\n        },\n\"osee2unifiedRelease\",\n{\n            'v': NaN,\n            'f': \"NaN\",\n        }],\n [{\n            'v': 21,\n            'f': \"21\",\n        },\n\"Firefox\",\n{\n            'v': 207.0,\n            'f': \"207.0\",\n        }],\n [{\n            'v': 22,\n            'f': \"22\",\n        },\n\"Konqueror\",\n{\n            'v': NaN,\n            'f': \"NaN\",\n        }],\n [{\n            'v': 23,\n            'f': \"23\",\n        },\n\"Lunascape\",\n{\n            'v': NaN,\n            'f': \"NaN\",\n        }],\n [{\n            'v': 24,\n            'f': \"24\",\n        },\n\"Android Runtime\",\n{\n            'v': NaN,\n            'f': \"NaN\",\n        }],\n [{\n            'v': 25,\n            'f': \"25\",\n        },\n\"Maxthon\",\n{\n            'v': NaN,\n            'f': \"NaN\",\n        }],\n [{\n            'v': 26,\n            'f': \"26\",\n        },\n\"Nintendo Browser\",\n{\n            'v': NaN,\n            'f': \"NaN\",\n        }],\n [{\n            'v': 27,\n            'f': \"27\",\n        },\n\"0\",\n{\n            'v': NaN,\n            'f': \"NaN\",\n        }],\n [{\n            'v': 28,\n            'f': \"28\",\n        },\n\"Mozilla Compatible Agent\",\n{\n            'v': NaN,\n            'f': \"NaN\",\n        }],\n [{\n            'v': 29,\n            'f': \"29\",\n        },\n\"Mozilla\",\n{\n            'v': NaN,\n            'f': \"NaN\",\n        }],\n [{\n            'v': 30,\n            'f': \"30\",\n        },\n\"Internet Explorer\",\n{\n            'v': 113.0,\n            'f': \"113.0\",\n        }],\n [{\n            'v': 31,\n            'f': \"31\",\n        },\n\"Reddit\",\n{\n            'v': NaN,\n            'f': \"NaN\",\n        }],\n [{\n            'v': 32,\n            'f': \"32\",\n        },\n\"BlackBerry\",\n{\n            'v': NaN,\n            'f': \"NaN\",\n        }],\n [{\n            'v': 33,\n            'f': \"33\",\n        },\n\"Apple-iPhone7C2\",\n{\n            'v': NaN,\n            'f': \"NaN\",\n        }],\n [{\n            'v': 34,\n            'f': \"34\",\n        },\n\"Opera\",\n{\n            'v': 6.0,\n            'f': \"6.0\",\n        }],\n [{\n            'v': 35,\n            'f': \"35\",\n        },\n\"(not set)\",\n{\n            'v': NaN,\n            'f': \"NaN\",\n        }],\n [{\n            'v': 36,\n            'f': \"36\",\n        },\n\"User Agent\",\n{\n            'v': NaN,\n            'f': \"NaN\",\n        }],\n [{\n            'v': 37,\n            'f': \"37\",\n        },\n\"Safari (in-app)\",\n{\n            'v': 12.0,\n            'f': \"12.0\",\n        }],\n [{\n            'v': 38,\n            'f': \"38\",\n        },\n\"MRCHROME\",\n{\n            'v': NaN,\n            'f': \"NaN\",\n        }],\n [{\n            'v': 39,\n            'f': \"39\",\n        },\n\"Iron\",\n{\n            'v': NaN,\n            'f': \"NaN\",\n        }],\n [{\n            'v': 40,\n            'f': \"40\",\n        },\n\"DASH_JR_3G\",\n{\n            'v': NaN,\n            'f': \"NaN\",\n        }],\n [{\n            'v': 41,\n            'f': \"41\",\n        },\n\"Changa 99695759\",\n{\n            'v': NaN,\n            'f': \"NaN\",\n        }],\n [{\n            'v': 42,\n            'f': \"42\",\n        },\n\"LYF_LS_4002_12\",\n{\n            'v': NaN,\n            'f': \"NaN\",\n        }],\n [{\n            'v': 43,\n            'f': \"43\",\n        },\n\"Nichrome\",\n{\n            'v': NaN,\n            'f': \"NaN\",\n        }],\n [{\n            'v': 44,\n            'f': \"44\",\n        },\n\"Amazon Silk\",\n{\n            'v': 1.0,\n            'f': \"1.0\",\n        }],\n [{\n            'v': 45,\n            'f': \"45\",\n        },\n\"MQQBrowser\",\n{\n            'v': NaN,\n            'f': \"NaN\",\n        }],\n [{\n            'v': 46,\n            'f': \"46\",\n        },\n\"Android Browser\",\n{\n            'v': NaN,\n            'f': \"NaN\",\n        }],\n [{\n            'v': 47,\n            'f': \"47\",\n        },\n\"ADM\",\n{\n            'v': NaN,\n            'f': \"NaN\",\n        }],\n [{\n            'v': 48,\n            'f': \"48\",\n        },\n\"Android Webview\",\n{\n            'v': 6.0,\n            'f': \"6.0\",\n        }],\n [{\n            'v': 49,\n            'f': \"49\",\n        },\n\"TCL P500M\",\n{\n            'v': NaN,\n            'f': \"NaN\",\n        }],\n [{\n            'v': 50,\n            'f': \"50\",\n        },\n\"CSM Click\",\n{\n            'v': NaN,\n            'f': \"NaN\",\n        }],\n [{\n            'v': 51,\n            'f': \"51\",\n        },\n\"YE\",\n{\n            'v': NaN,\n            'f': \"NaN\",\n        }],\n [{\n            'v': 52,\n            'f': \"52\",\n        },\n\"Puffin\",\n{\n            'v': NaN,\n            'f': \"NaN\",\n        }],\n [{\n            'v': 53,\n            'f': \"53\",\n        },\n\"Safari\",\n{\n            'v': 787.0,\n            'f': \"787.0\",\n        }]],\n        columns: [[\"number\", \"index\"], [\"string\", \"browser\"], [\"number\", \"total_transactions\"]],\n        columnOptions: [{\"width\": \"1px\", \"className\": \"index_column\"}],\n        rowsPerPage: 25,\n        helpUrl: \"https://colab.research.google.com/notebooks/data_table.ipynb\",\n        suppressOutputScrolling: true,\n        minimumWidth: undefined,\n      });\n    ",
            "text/html": [
              "<div>\n",
              "<style scoped>\n",
              "    .dataframe tbody tr th:only-of-type {\n",
              "        vertical-align: middle;\n",
              "    }\n",
              "\n",
              "    .dataframe tbody tr th {\n",
              "        vertical-align: top;\n",
              "    }\n",
              "\n",
              "    .dataframe thead th {\n",
              "        text-align: right;\n",
              "    }\n",
              "</style>\n",
              "<table border=\"1\" class=\"dataframe\">\n",
              "  <thead>\n",
              "    <tr style=\"text-align: right;\">\n",
              "      <th></th>\n",
              "      <th>browser</th>\n",
              "      <th>total_transactions</th>\n",
              "    </tr>\n",
              "  </thead>\n",
              "  <tbody>\n",
              "    <tr>\n",
              "      <th>0</th>\n",
              "      <td>NokiaE52-1</td>\n",
              "      <td>NaN</td>\n",
              "    </tr>\n",
              "    <tr>\n",
              "      <th>1</th>\n",
              "      <td>Nokia Browser</td>\n",
              "      <td>NaN</td>\n",
              "    </tr>\n",
              "    <tr>\n",
              "      <th>2</th>\n",
              "      <td>Hisense M20-M_LTE</td>\n",
              "      <td>NaN</td>\n",
              "    </tr>\n",
              "    <tr>\n",
              "      <th>3</th>\n",
              "      <td>Coc Coc</td>\n",
              "      <td>NaN</td>\n",
              "    </tr>\n",
              "    <tr>\n",
              "      <th>4</th>\n",
              "      <td>HTC802t_TD</td>\n",
              "      <td>NaN</td>\n",
              "    </tr>\n",
              "    <tr>\n",
              "      <th>5</th>\n",
              "      <td>no-ua</td>\n",
              "      <td>NaN</td>\n",
              "    </tr>\n",
              "    <tr>\n",
              "      <th>6</th>\n",
              "      <td>UC Browser</td>\n",
              "      <td>NaN</td>\n",
              "    </tr>\n",
              "    <tr>\n",
              "      <th>7</th>\n",
              "      <td>SeaMonkey</td>\n",
              "      <td>NaN</td>\n",
              "    </tr>\n",
              "    <tr>\n",
              "      <th>8</th>\n",
              "      <td>Edge</td>\n",
              "      <td>59.0</td>\n",
              "    </tr>\n",
              "    <tr>\n",
              "      <th>9</th>\n",
              "      <td>Seznam</td>\n",
              "      <td>NaN</td>\n",
              "    </tr>\n",
              "    <tr>\n",
              "      <th>10</th>\n",
              "      <td>subjectAgent: NoticiasBoom</td>\n",
              "      <td>NaN</td>\n",
              "    </tr>\n",
              "    <tr>\n",
              "      <th>11</th>\n",
              "      <td>LYF_LS_4002_11</td>\n",
              "      <td>NaN</td>\n",
              "    </tr>\n",
              "    <tr>\n",
              "      <th>12</th>\n",
              "      <td>M5</td>\n",
              "      <td>NaN</td>\n",
              "    </tr>\n",
              "    <tr>\n",
              "      <th>13</th>\n",
              "      <td>IE with Chrome Frame</td>\n",
              "      <td>NaN</td>\n",
              "    </tr>\n",
              "    <tr>\n",
              "      <th>14</th>\n",
              "      <td>Opera Mini</td>\n",
              "      <td>NaN</td>\n",
              "    </tr>\n",
              "    <tr>\n",
              "      <th>15</th>\n",
              "      <td>YaBrowser</td>\n",
              "      <td>NaN</td>\n",
              "    </tr>\n",
              "    <tr>\n",
              "      <th>16</th>\n",
              "      <td>DoCoMo</td>\n",
              "      <td>NaN</td>\n",
              "    </tr>\n",
              "    <tr>\n",
              "      <th>17</th>\n",
              "      <td>Chrome</td>\n",
              "      <td>10924.0</td>\n",
              "    </tr>\n",
              "    <tr>\n",
              "      <th>18</th>\n",
              "      <td>ThumbSniper</td>\n",
              "      <td>NaN</td>\n",
              "    </tr>\n",
              "    <tr>\n",
              "      <th>19</th>\n",
              "      <td>[Use default User-agent string] LIVRENPOCHE</td>\n",
              "      <td>NaN</td>\n",
              "    </tr>\n",
              "    <tr>\n",
              "      <th>20</th>\n",
              "      <td>osee2unifiedRelease</td>\n",
              "      <td>NaN</td>\n",
              "    </tr>\n",
              "    <tr>\n",
              "      <th>21</th>\n",
              "      <td>Firefox</td>\n",
              "      <td>207.0</td>\n",
              "    </tr>\n",
              "    <tr>\n",
              "      <th>22</th>\n",
              "      <td>Konqueror</td>\n",
              "      <td>NaN</td>\n",
              "    </tr>\n",
              "    <tr>\n",
              "      <th>23</th>\n",
              "      <td>Lunascape</td>\n",
              "      <td>NaN</td>\n",
              "    </tr>\n",
              "    <tr>\n",
              "      <th>24</th>\n",
              "      <td>Android Runtime</td>\n",
              "      <td>NaN</td>\n",
              "    </tr>\n",
              "    <tr>\n",
              "      <th>25</th>\n",
              "      <td>Maxthon</td>\n",
              "      <td>NaN</td>\n",
              "    </tr>\n",
              "    <tr>\n",
              "      <th>26</th>\n",
              "      <td>Nintendo Browser</td>\n",
              "      <td>NaN</td>\n",
              "    </tr>\n",
              "    <tr>\n",
              "      <th>27</th>\n",
              "      <td>0</td>\n",
              "      <td>NaN</td>\n",
              "    </tr>\n",
              "    <tr>\n",
              "      <th>28</th>\n",
              "      <td>Mozilla Compatible Agent</td>\n",
              "      <td>NaN</td>\n",
              "    </tr>\n",
              "    <tr>\n",
              "      <th>29</th>\n",
              "      <td>Mozilla</td>\n",
              "      <td>NaN</td>\n",
              "    </tr>\n",
              "    <tr>\n",
              "      <th>30</th>\n",
              "      <td>Internet Explorer</td>\n",
              "      <td>113.0</td>\n",
              "    </tr>\n",
              "    <tr>\n",
              "      <th>31</th>\n",
              "      <td>Reddit</td>\n",
              "      <td>NaN</td>\n",
              "    </tr>\n",
              "    <tr>\n",
              "      <th>32</th>\n",
              "      <td>BlackBerry</td>\n",
              "      <td>NaN</td>\n",
              "    </tr>\n",
              "    <tr>\n",
              "      <th>33</th>\n",
              "      <td>Apple-iPhone7C2</td>\n",
              "      <td>NaN</td>\n",
              "    </tr>\n",
              "    <tr>\n",
              "      <th>34</th>\n",
              "      <td>Opera</td>\n",
              "      <td>6.0</td>\n",
              "    </tr>\n",
              "    <tr>\n",
              "      <th>35</th>\n",
              "      <td>(not set)</td>\n",
              "      <td>NaN</td>\n",
              "    </tr>\n",
              "    <tr>\n",
              "      <th>36</th>\n",
              "      <td>User Agent</td>\n",
              "      <td>NaN</td>\n",
              "    </tr>\n",
              "    <tr>\n",
              "      <th>37</th>\n",
              "      <td>Safari (in-app)</td>\n",
              "      <td>12.0</td>\n",
              "    </tr>\n",
              "    <tr>\n",
              "      <th>38</th>\n",
              "      <td>MRCHROME</td>\n",
              "      <td>NaN</td>\n",
              "    </tr>\n",
              "    <tr>\n",
              "      <th>39</th>\n",
              "      <td>Iron</td>\n",
              "      <td>NaN</td>\n",
              "    </tr>\n",
              "    <tr>\n",
              "      <th>40</th>\n",
              "      <td>DASH_JR_3G</td>\n",
              "      <td>NaN</td>\n",
              "    </tr>\n",
              "    <tr>\n",
              "      <th>41</th>\n",
              "      <td>Changa 99695759</td>\n",
              "      <td>NaN</td>\n",
              "    </tr>\n",
              "    <tr>\n",
              "      <th>42</th>\n",
              "      <td>LYF_LS_4002_12</td>\n",
              "      <td>NaN</td>\n",
              "    </tr>\n",
              "    <tr>\n",
              "      <th>43</th>\n",
              "      <td>Nichrome</td>\n",
              "      <td>NaN</td>\n",
              "    </tr>\n",
              "    <tr>\n",
              "      <th>44</th>\n",
              "      <td>Amazon Silk</td>\n",
              "      <td>1.0</td>\n",
              "    </tr>\n",
              "    <tr>\n",
              "      <th>45</th>\n",
              "      <td>MQQBrowser</td>\n",
              "      <td>NaN</td>\n",
              "    </tr>\n",
              "    <tr>\n",
              "      <th>46</th>\n",
              "      <td>Android Browser</td>\n",
              "      <td>NaN</td>\n",
              "    </tr>\n",
              "    <tr>\n",
              "      <th>47</th>\n",
              "      <td>ADM</td>\n",
              "      <td>NaN</td>\n",
              "    </tr>\n",
              "    <tr>\n",
              "      <th>48</th>\n",
              "      <td>Android Webview</td>\n",
              "      <td>6.0</td>\n",
              "    </tr>\n",
              "    <tr>\n",
              "      <th>49</th>\n",
              "      <td>TCL P500M</td>\n",
              "      <td>NaN</td>\n",
              "    </tr>\n",
              "    <tr>\n",
              "      <th>50</th>\n",
              "      <td>CSM Click</td>\n",
              "      <td>NaN</td>\n",
              "    </tr>\n",
              "    <tr>\n",
              "      <th>51</th>\n",
              "      <td>YE</td>\n",
              "      <td>NaN</td>\n",
              "    </tr>\n",
              "    <tr>\n",
              "      <th>52</th>\n",
              "      <td>Puffin</td>\n",
              "      <td>NaN</td>\n",
              "    </tr>\n",
              "    <tr>\n",
              "      <th>53</th>\n",
              "      <td>Safari</td>\n",
              "      <td>787.0</td>\n",
              "    </tr>\n",
              "  </tbody>\n",
              "</table>\n",
              "</div>"
            ],
            "text/plain": [
              "                                        browser  total_transactions\n",
              "0                                    NokiaE52-1                 NaN\n",
              "1                                 Nokia Browser                 NaN\n",
              "2                             Hisense M20-M_LTE                 NaN\n",
              "3                                       Coc Coc                 NaN\n",
              "4                                    HTC802t_TD                 NaN\n",
              "5                                         no-ua                 NaN\n",
              "6                                    UC Browser                 NaN\n",
              "7                                     SeaMonkey                 NaN\n",
              "8                                          Edge                59.0\n",
              "9                                        Seznam                 NaN\n",
              "10                   subjectAgent: NoticiasBoom                 NaN\n",
              "11                               LYF_LS_4002_11                 NaN\n",
              "12                                           M5                 NaN\n",
              "13                         IE with Chrome Frame                 NaN\n",
              "14                                   Opera Mini                 NaN\n",
              "15                                    YaBrowser                 NaN\n",
              "16                                       DoCoMo                 NaN\n",
              "17                                       Chrome             10924.0\n",
              "18                                  ThumbSniper                 NaN\n",
              "19  [Use default User-agent string] LIVRENPOCHE                 NaN\n",
              "20                          osee2unifiedRelease                 NaN\n",
              "21                                      Firefox               207.0\n",
              "22                                    Konqueror                 NaN\n",
              "23                                    Lunascape                 NaN\n",
              "24                              Android Runtime                 NaN\n",
              "25                                      Maxthon                 NaN\n",
              "26                             Nintendo Browser                 NaN\n",
              "27                                            0                 NaN\n",
              "28                     Mozilla Compatible Agent                 NaN\n",
              "29                                      Mozilla                 NaN\n",
              "30                            Internet Explorer               113.0\n",
              "31                                       Reddit                 NaN\n",
              "32                                   BlackBerry                 NaN\n",
              "33                              Apple-iPhone7C2                 NaN\n",
              "34                                        Opera                 6.0\n",
              "35                                    (not set)                 NaN\n",
              "36                                   User Agent                 NaN\n",
              "37                              Safari (in-app)                12.0\n",
              "38                                     MRCHROME                 NaN\n",
              "39                                         Iron                 NaN\n",
              "40                                   DASH_JR_3G                 NaN\n",
              "41                              Changa 99695759                 NaN\n",
              "42                               LYF_LS_4002_12                 NaN\n",
              "43                                     Nichrome                 NaN\n",
              "44                                  Amazon Silk                 1.0\n",
              "45                                   MQQBrowser                 NaN\n",
              "46                              Android Browser                 NaN\n",
              "47                                          ADM                 NaN\n",
              "48                              Android Webview                 6.0\n",
              "49                                    TCL P500M                 NaN\n",
              "50                                    CSM Click                 NaN\n",
              "51                                           YE                 NaN\n",
              "52                                       Puffin                 NaN\n",
              "53                                       Safari               787.0"
            ]
          },
          "metadata": {
            "tags": []
          },
          "execution_count": 9
        }
      ]
    },
    {
      "cell_type": "code",
      "metadata": {
        "id": "4A8x-4Sk4ngf"
      },
      "source": [
        "# 4 Identify the top 5 browsers used for making transactions in July 2017, listed in descending order by total transactions. \n",
        "%%bigquery --project vigilant-result-285814 df\n",
        "SELECT browser, total_transactions from \n",
        "  (SELECT device.browser as browser, SUM(totals.transactions) as total_transactions \n",
        "    FROM `bigquery-public-data.google_analytics_sample.ga_sessions_*` \n",
        "    GROUP BY device.browser) \n",
        "ORDER BY total_transactions DESC \n",
        "LIMIT 5"
      ],
      "execution_count": 10,
      "outputs": []
    },
    {
      "cell_type": "code",
      "metadata": {
        "id": "Ec1BEMli79gc",
        "colab": {
          "base_uri": "https://localhost:8080/"
        },
        "outputId": "12b15bf7-8946-42d6-a9e3-9ac5e01c6d12"
      },
      "source": [
        "type(df)"
      ],
      "execution_count": 11,
      "outputs": [
        {
          "output_type": "execute_result",
          "data": {
            "text/plain": [
              "pandas.core.frame.DataFrame"
            ]
          },
          "metadata": {
            "tags": []
          },
          "execution_count": 11
        }
      ]
    },
    {
      "cell_type": "code",
      "metadata": {
        "id": "614WK7rY83MU",
        "colab": {
          "base_uri": "https://localhost:8080/",
          "height": 197
        },
        "outputId": "2cb9fb33-1050-4c14-e26f-03c78d101806"
      },
      "source": [
        "df"
      ],
      "execution_count": 12,
      "outputs": [
        {
          "output_type": "execute_result",
          "data": {
            "application/vnd.google.colaboratory.module+javascript": "\n      import \"https://ssl.gstatic.com/colaboratory/data_table/a6224c040fa35dcf/data_table.js\";\n\n      window.createDataTable({\n        data: [[{\n            'v': 0,\n            'f': \"0\",\n        },\n\"Chrome\",\n{\n            'v': 10924,\n            'f': \"10924\",\n        }],\n [{\n            'v': 1,\n            'f': \"1\",\n        },\n\"Safari\",\n{\n            'v': 787,\n            'f': \"787\",\n        }],\n [{\n            'v': 2,\n            'f': \"2\",\n        },\n\"Firefox\",\n{\n            'v': 207,\n            'f': \"207\",\n        }],\n [{\n            'v': 3,\n            'f': \"3\",\n        },\n\"Internet Explorer\",\n{\n            'v': 113,\n            'f': \"113\",\n        }],\n [{\n            'v': 4,\n            'f': \"4\",\n        },\n\"Edge\",\n{\n            'v': 59,\n            'f': \"59\",\n        }]],\n        columns: [[\"number\", \"index\"], [\"string\", \"browser\"], [\"number\", \"total_transactions\"]],\n        columnOptions: [{\"width\": \"1px\", \"className\": \"index_column\"}],\n        rowsPerPage: 25,\n        helpUrl: \"https://colab.research.google.com/notebooks/data_table.ipynb\",\n        suppressOutputScrolling: true,\n        minimumWidth: undefined,\n      });\n    ",
            "text/html": [
              "<div>\n",
              "<style scoped>\n",
              "    .dataframe tbody tr th:only-of-type {\n",
              "        vertical-align: middle;\n",
              "    }\n",
              "\n",
              "    .dataframe tbody tr th {\n",
              "        vertical-align: top;\n",
              "    }\n",
              "\n",
              "    .dataframe thead th {\n",
              "        text-align: right;\n",
              "    }\n",
              "</style>\n",
              "<table border=\"1\" class=\"dataframe\">\n",
              "  <thead>\n",
              "    <tr style=\"text-align: right;\">\n",
              "      <th></th>\n",
              "      <th>browser</th>\n",
              "      <th>total_transactions</th>\n",
              "    </tr>\n",
              "  </thead>\n",
              "  <tbody>\n",
              "    <tr>\n",
              "      <th>0</th>\n",
              "      <td>Chrome</td>\n",
              "      <td>10924</td>\n",
              "    </tr>\n",
              "    <tr>\n",
              "      <th>1</th>\n",
              "      <td>Safari</td>\n",
              "      <td>787</td>\n",
              "    </tr>\n",
              "    <tr>\n",
              "      <th>2</th>\n",
              "      <td>Firefox</td>\n",
              "      <td>207</td>\n",
              "    </tr>\n",
              "    <tr>\n",
              "      <th>3</th>\n",
              "      <td>Internet Explorer</td>\n",
              "      <td>113</td>\n",
              "    </tr>\n",
              "    <tr>\n",
              "      <th>4</th>\n",
              "      <td>Edge</td>\n",
              "      <td>59</td>\n",
              "    </tr>\n",
              "  </tbody>\n",
              "</table>\n",
              "</div>"
            ],
            "text/plain": [
              "             browser  total_transactions\n",
              "0             Chrome               10924\n",
              "1             Safari                 787\n",
              "2            Firefox                 207\n",
              "3  Internet Explorer                 113\n",
              "4               Edge                  59"
            ]
          },
          "metadata": {
            "tags": []
          },
          "execution_count": 12
        }
      ]
    },
    {
      "cell_type": "code",
      "metadata": {
        "colab": {
          "base_uri": "https://localhost:8080/",
          "height": 265
        },
        "id": "PQodZ6Rnzj2J",
        "outputId": "c97ec002-8aa5-48f5-98f1-ed6f6f9a68df"
      },
      "source": [
        "import matplotlib.pyplot as plt\n",
        "df.plot(x=\"browser\", y=\"total_transactions\", kind=\"pie\", rot=10, fontsize=12)"
      ],
      "execution_count": 78,
      "outputs": [
        {
          "output_type": "execute_result",
          "data": {
            "text/plain": [
              "<matplotlib.axes._subplots.AxesSubplot at 0x7f2e06cb2250>"
            ]
          },
          "metadata": {
            "tags": []
          },
          "execution_count": 78
        },
        {
          "output_type": "display_data",
          "data": {
            "image/png": "[encoded data removed]",
            "text/plain": [
              "<Figure size 432x288 with 1 Axes>"
            ]
          },
          "metadata": {
            "tags": []
          }
        }
      ]
    },
    {
      "cell_type": "code",
      "metadata": {
        "id": "G8Yz7HVn8bm0",
        "colab": {
          "base_uri": "https://localhost:8080/",
          "height": 315
        },
        "outputId": "a0f3e434-54c1-4f67-d4bb-3bb8a10571ce"
      },
      "source": [
        "import matplotlib.pyplot as plt\n",
        "df.plot(x=\"browser\", y=\"total_transactions\", kind=\"bar\", rot=9, fontsize=12)"
      ],
      "execution_count": 13,
      "outputs": [
        {
          "output_type": "execute_result",
          "data": {
            "text/plain": [
              "<matplotlib.axes._subplots.AxesSubplot at 0x7f2e08bd54d0>"
            ]
          },
          "metadata": {
            "tags": []
          },
          "execution_count": 13
        },
        {
          "output_type": "display_data",
          "data": {
            "image/png": "[encoded data removed]",
            "text/plain": [
              "<Figure size 432x288 with 1 Axes>"
            ]
          },
          "metadata": {
            "tags": [],
            "needs_background": "light"
          }
        }
      ]
    },
    {
      "cell_type": "code",
      "metadata": {
        "colab": {
          "base_uri": "https://localhost:8080/",
          "height": 113
        },
        "id": "Xyl6abIncOW9",
        "outputId": "4f7cdbb3-069b-4bb5-ec3b-e6828cf31ba3"
      },
      "source": [
        "# 5 How much time did all users spend on the site?\n",
        "%%bigquery --project vigilant-result-285814\n",
        "SELECT SUM(totals.timeOnSite)\n",
        "FROM `bigquery-public-data.google_analytics_sample.ga_sessions_*`"
      ],
      "execution_count": 16,
      "outputs": [
        {
          "output_type": "execute_result",
          "data": {
            "application/vnd.google.colaboratory.module+javascript": "\n      import \"https://ssl.gstatic.com/colaboratory/data_table/a6224c040fa35dcf/data_table.js\";\n\n      window.createDataTable({\n        data: [[{\n            'v': 0,\n            'f': \"0\",\n        },\n{\n            'v': 118672851,\n            'f': \"118672851\",\n        }]],\n        columns: [[\"number\", \"index\"], [\"number\", \"f0_\"]],\n        columnOptions: [{\"width\": \"1px\", \"className\": \"index_column\"}],\n        rowsPerPage: 25,\n        helpUrl: \"https://colab.research.google.com/notebooks/data_table.ipynb\",\n        suppressOutputScrolling: true,\n        minimumWidth: undefined,\n      });\n    ",
            "text/html": [
              "<div>\n",
              "<style scoped>\n",
              "    .dataframe tbody tr th:only-of-type {\n",
              "        vertical-align: middle;\n",
              "    }\n",
              "\n",
              "    .dataframe tbody tr th {\n",
              "        vertical-align: top;\n",
              "    }\n",
              "\n",
              "    .dataframe thead th {\n",
              "        text-align: right;\n",
              "    }\n",
              "</style>\n",
              "<table border=\"1\" class=\"dataframe\">\n",
              "  <thead>\n",
              "    <tr style=\"text-align: right;\">\n",
              "      <th></th>\n",
              "      <th>f0_</th>\n",
              "    </tr>\n",
              "  </thead>\n",
              "  <tbody>\n",
              "    <tr>\n",
              "      <th>0</th>\n",
              "      <td>118672851</td>\n",
              "    </tr>\n",
              "  </tbody>\n",
              "</table>\n",
              "</div>"
            ],
            "text/plain": [
              "         f0_\n",
              "0  118672851"
            ]
          },
          "metadata": {
            "tags": []
          },
          "execution_count": 16
        }
      ]
    },
    {
      "cell_type": "code",
      "metadata": {
        "colab": {
          "base_uri": "https://localhost:8080/",
          "height": 113
        },
        "id": "T0V2DpVudz2m",
        "outputId": "6c2d36a6-1f4f-4222-89a3-ef1dd5a40ed2"
      },
      "source": [
        "# 6 Average time spent on the site\n",
        "%%bigquery --project vigilant-result-285814\n",
        "SELECT AVG(totals.timeOnSite)\n",
        "FROM `bigquery-public-data.google_analytics_sample.ga_sessions_*`"
      ],
      "execution_count": 17,
      "outputs": [
        {
          "output_type": "execute_result",
          "data": {
            "application/vnd.google.colaboratory.module+javascript": "\n      import \"https://ssl.gstatic.com/colaboratory/data_table/a6224c040fa35dcf/data_table.js\";\n\n      window.createDataTable({\n        data: [[{\n            'v': 0,\n            'f': \"0\",\n        },\n{\n            'v': 262.6121413428812,\n            'f': \"262.6121413428812\",\n        }]],\n        columns: [[\"number\", \"index\"], [\"number\", \"f0_\"]],\n        columnOptions: [{\"width\": \"1px\", \"className\": \"index_column\"}],\n        rowsPerPage: 25,\n        helpUrl: \"https://colab.research.google.com/notebooks/data_table.ipynb\",\n        suppressOutputScrolling: true,\n        minimumWidth: undefined,\n      });\n    ",
            "text/html": [
              "<div>\n",
              "<style scoped>\n",
              "    .dataframe tbody tr th:only-of-type {\n",
              "        vertical-align: middle;\n",
              "    }\n",
              "\n",
              "    .dataframe tbody tr th {\n",
              "        vertical-align: top;\n",
              "    }\n",
              "\n",
              "    .dataframe thead th {\n",
              "        text-align: right;\n",
              "    }\n",
              "</style>\n",
              "<table border=\"1\" class=\"dataframe\">\n",
              "  <thead>\n",
              "    <tr style=\"text-align: right;\">\n",
              "      <th></th>\n",
              "      <th>f0_</th>\n",
              "    </tr>\n",
              "  </thead>\n",
              "  <tbody>\n",
              "    <tr>\n",
              "      <th>0</th>\n",
              "      <td>262.612141</td>\n",
              "    </tr>\n",
              "  </tbody>\n",
              "</table>\n",
              "</div>"
            ],
            "text/plain": [
              "          f0_\n",
              "0  262.612141"
            ]
          },
          "metadata": {
            "tags": []
          },
          "execution_count": 17
        }
      ]
    },
    {
      "cell_type": "code",
      "metadata": {
        "id": "csuwqvmad97h"
      },
      "source": [
        "# 7\n",
        "%%bigquery --project vigilant-result-285814 df1\n",
        "SELECT geoNetwork.continent,\n",
        "SUM(totals.timeOnSite) as timeOnSite\n",
        "FROM `bigquery-public-data.google_analytics_sample.ga_sessions_*`\n",
        "GROUP BY geoNetwork.continent"
      ],
      "execution_count": 38,
      "outputs": []
    },
    {
      "cell_type": "code",
      "metadata": {
        "colab": {
          "base_uri": "https://localhost:8080/"
        },
        "id": "I8edQ_mQk9HM",
        "outputId": "975bbbf0-28d9-47f2-ef89-b6b3a1260918"
      },
      "source": [
        "type(df1)"
      ],
      "execution_count": 39,
      "outputs": [
        {
          "output_type": "execute_result",
          "data": {
            "text/plain": [
              "pandas.core.frame.DataFrame"
            ]
          },
          "metadata": {
            "tags": []
          },
          "execution_count": 39
        }
      ]
    },
    {
      "cell_type": "code",
      "metadata": {
        "colab": {
          "base_uri": "https://localhost:8080/",
          "height": 218
        },
        "id": "LpLhOSLOm-59",
        "outputId": "47e613e4-e04a-4ed0-f67d-5f5030d01947"
      },
      "source": [
        "df1"
      ],
      "execution_count": 46,
      "outputs": [
        {
          "output_type": "execute_result",
          "data": {
            "application/vnd.google.colaboratory.module+javascript": "\n      import \"https://ssl.gstatic.com/colaboratory/data_table/a6224c040fa35dcf/data_table.js\";\n\n      window.createDataTable({\n        data: [[{\n            'v': 0,\n            'f': \"0\",\n        },\n\"Africa\",\n{\n            'v': 1107835,\n            'f': \"1107835\",\n        }],\n [{\n            'v': 1,\n            'f': \"1\",\n        },\n\"Asia\",\n{\n            'v': 18307489,\n            'f': \"18307489\",\n        }],\n [{\n            'v': 2,\n            'f': \"2\",\n        },\n\"Americas\",\n{\n            'v': 80353134,\n            'f': \"80353134\",\n        }],\n [{\n            'v': 3,\n            'f': \"3\",\n        },\n\"Oceania\",\n{\n            'v': 1637780,\n            'f': \"1637780\",\n        }],\n [{\n            'v': 4,\n            'f': \"4\",\n        },\n\"Europe\",\n{\n            'v': 17126046,\n            'f': \"17126046\",\n        }],\n [{\n            'v': 5,\n            'f': \"5\",\n        },\n\"(not set)\",\n{\n            'v': 140567,\n            'f': \"140567\",\n        }]],\n        columns: [[\"number\", \"index\"], [\"string\", \"continent\"], [\"number\", \"timeOnSite\"]],\n        columnOptions: [{\"width\": \"1px\", \"className\": \"index_column\"}],\n        rowsPerPage: 25,\n        helpUrl: \"https://colab.research.google.com/notebooks/data_table.ipynb\",\n        suppressOutputScrolling: true,\n        minimumWidth: undefined,\n      });\n    ",
            "text/html": [
              "<div>\n",
              "<style scoped>\n",
              "    .dataframe tbody tr th:only-of-type {\n",
              "        vertical-align: middle;\n",
              "    }\n",
              "\n",
              "    .dataframe tbody tr th {\n",
              "        vertical-align: top;\n",
              "    }\n",
              "\n",
              "    .dataframe thead th {\n",
              "        text-align: right;\n",
              "    }\n",
              "</style>\n",
              "<table border=\"1\" class=\"dataframe\">\n",
              "  <thead>\n",
              "    <tr style=\"text-align: right;\">\n",
              "      <th></th>\n",
              "      <th>continent</th>\n",
              "      <th>timeOnSite</th>\n",
              "    </tr>\n",
              "  </thead>\n",
              "  <tbody>\n",
              "    <tr>\n",
              "      <th>0</th>\n",
              "      <td>Africa</td>\n",
              "      <td>1107835</td>\n",
              "    </tr>\n",
              "    <tr>\n",
              "      <th>1</th>\n",
              "      <td>Asia</td>\n",
              "      <td>18307489</td>\n",
              "    </tr>\n",
              "    <tr>\n",
              "      <th>2</th>\n",
              "      <td>Americas</td>\n",
              "      <td>80353134</td>\n",
              "    </tr>\n",
              "    <tr>\n",
              "      <th>3</th>\n",
              "      <td>Oceania</td>\n",
              "      <td>1637780</td>\n",
              "    </tr>\n",
              "    <tr>\n",
              "      <th>4</th>\n",
              "      <td>Europe</td>\n",
              "      <td>17126046</td>\n",
              "    </tr>\n",
              "    <tr>\n",
              "      <th>5</th>\n",
              "      <td>(not set)</td>\n",
              "      <td>140567</td>\n",
              "    </tr>\n",
              "  </tbody>\n",
              "</table>\n",
              "</div>"
            ],
            "text/plain": [
              "   continent  timeOnSite\n",
              "0     Africa     1107835\n",
              "1       Asia    18307489\n",
              "2   Americas    80353134\n",
              "3    Oceania     1637780\n",
              "4     Europe    17126046\n",
              "5  (not set)      140567"
            ]
          },
          "metadata": {
            "tags": []
          },
          "execution_count": 46
        }
      ]
    },
    {
      "cell_type": "code",
      "metadata": {
        "colab": {
          "base_uri": "https://localhost:8080/",
          "height": 319
        },
        "id": "Gr_K6YJbuYdw",
        "outputId": "b1e4a287-bb0f-49fe-ab2e-862343e390af"
      },
      "source": [
        "import matplotlib.pyplot as plt\n",
        "df1.plot(x=\"continent\", y=\"timeOnSite\", kind=\"bar\", rot=9, fontsize=12)"
      ],
      "execution_count": 79,
      "outputs": [
        {
          "output_type": "execute_result",
          "data": {
            "text/plain": [
              "<matplotlib.axes._subplots.AxesSubplot at 0x7f2e06ca1b90>"
            ]
          },
          "metadata": {
            "tags": []
          },
          "execution_count": 79
        },
        {
          "output_type": "display_data",
          "data": {
            "image/png": "[encoded data removed]",
            "text/plain": [
              "<Figure size 432x288 with 1 Axes>"
            ]
          },
          "metadata": {
            "tags": [],
            "needs_background": "light"
          }
        }
      ]
    },
    {
      "cell_type": "code",
      "metadata": {
        "colab": {
          "base_uri": "https://localhost:8080/",
          "height": 302
        },
        "id": "5h8W8CNBemzb",
        "outputId": "35ea7c51-ef85-4dd9-b139-eb64bb466f68"
      },
      "source": [
        "# 8\n",
        "%%bigquery --project vigilant-result-285814\n",
        "SELECT geo, total_transactions from \n",
        "  (SELECT geoNetwork.country as geo, SUM(totals.transactions) as total_transactions \n",
        "    FROM `bigquery-public-data.google_analytics_sample.ga_sessions_*` \n",
        "    GROUP BY geoNetwork.country) \n",
        "ORDER BY total_transactions DESC \n",
        "LIMIT 11"
      ],
      "execution_count": 35,
      "outputs": [
        {
          "output_type": "execute_result",
          "data": {
            "application/vnd.google.colaboratory.module+javascript": "\n      import \"https://ssl.gstatic.com/colaboratory/data_table/a6224c040fa35dcf/data_table.js\";\n\n      window.createDataTable({\n        data: [[{\n            'v': 0,\n            'f': \"0\",\n        },\n\"United States\",\n{\n            'v': 11440,\n            'f': \"11440\",\n        }],\n [{\n            'v': 1,\n            'f': \"1\",\n        },\n\"Canada\",\n{\n            'v': 199,\n            'f': \"199\",\n        }],\n [{\n            'v': 2,\n            'f': \"2\",\n        },\n\"Venezuela\",\n{\n            'v': 153,\n            'f': \"153\",\n        }],\n [{\n            'v': 3,\n            'f': \"3\",\n        },\n\"Mexico\",\n{\n            'v': 20,\n            'f': \"20\",\n        }],\n [{\n            'v': 4,\n            'f': \"4\",\n        },\n\"Taiwan\",\n{\n            'v': 19,\n            'f': \"19\",\n        }],\n [{\n            'v': 5,\n            'f': \"5\",\n        },\n\"United Kingdom\",\n{\n            'v': 19,\n            'f': \"19\",\n        }],\n [{\n            'v': 6,\n            'f': \"6\",\n        },\n\"Japan\",\n{\n            'v': 18,\n            'f': \"18\",\n        }],\n [{\n            'v': 7,\n            'f': \"7\",\n        },\n\"Indonesia\",\n{\n            'v': 18,\n            'f': \"18\",\n        }],\n [{\n            'v': 8,\n            'f': \"8\",\n        },\n\"Australia\",\n{\n            'v': 13,\n            'f': \"13\",\n        }],\n [{\n            'v': 9,\n            'f': \"9\",\n        },\n\"Puerto Rico\",\n{\n            'v': 11,\n            'f': \"11\",\n        }]],\n        columns: [[\"number\", \"index\"], [\"string\", \"geo\"], [\"number\", \"total_transactions\"]],\n        columnOptions: [{\"width\": \"1px\", \"className\": \"index_column\"}],\n        rowsPerPage: 25,\n        helpUrl: \"https://colab.research.google.com/notebooks/data_table.ipynb\",\n        suppressOutputScrolling: true,\n        minimumWidth: undefined,\n      });\n    ",
            "text/html": [
              "<div>\n",
              "<style scoped>\n",
              "    .dataframe tbody tr th:only-of-type {\n",
              "        vertical-align: middle;\n",
              "    }\n",
              "\n",
              "    .dataframe tbody tr th {\n",
              "        vertical-align: top;\n",
              "    }\n",
              "\n",
              "    .dataframe thead th {\n",
              "        text-align: right;\n",
              "    }\n",
              "</style>\n",
              "<table border=\"1\" class=\"dataframe\">\n",
              "  <thead>\n",
              "    <tr style=\"text-align: right;\">\n",
              "      <th></th>\n",
              "      <th>geo</th>\n",
              "      <th>total_transactions</th>\n",
              "    </tr>\n",
              "  </thead>\n",
              "  <tbody>\n",
              "    <tr>\n",
              "      <th>0</th>\n",
              "      <td>United States</td>\n",
              "      <td>11440</td>\n",
              "    </tr>\n",
              "    <tr>\n",
              "      <th>1</th>\n",
              "      <td>Canada</td>\n",
              "      <td>199</td>\n",
              "    </tr>\n",
              "    <tr>\n",
              "      <th>2</th>\n",
              "      <td>Venezuela</td>\n",
              "      <td>153</td>\n",
              "    </tr>\n",
              "    <tr>\n",
              "      <th>3</th>\n",
              "      <td>Mexico</td>\n",
              "      <td>20</td>\n",
              "    </tr>\n",
              "    <tr>\n",
              "      <th>4</th>\n",
              "      <td>Taiwan</td>\n",
              "      <td>19</td>\n",
              "    </tr>\n",
              "    <tr>\n",
              "      <th>5</th>\n",
              "      <td>United Kingdom</td>\n",
              "      <td>19</td>\n",
              "    </tr>\n",
              "    <tr>\n",
              "      <th>6</th>\n",
              "      <td>Japan</td>\n",
              "      <td>18</td>\n",
              "    </tr>\n",
              "    <tr>\n",
              "      <th>7</th>\n",
              "      <td>Indonesia</td>\n",
              "      <td>18</td>\n",
              "    </tr>\n",
              "    <tr>\n",
              "      <th>8</th>\n",
              "      <td>Australia</td>\n",
              "      <td>13</td>\n",
              "    </tr>\n",
              "    <tr>\n",
              "      <th>9</th>\n",
              "      <td>Puerto Rico</td>\n",
              "      <td>11</td>\n",
              "    </tr>\n",
              "  </tbody>\n",
              "</table>\n",
              "</div>"
            ],
            "text/plain": [
              "              geo  total_transactions\n",
              "0   United States               11440\n",
              "1          Canada                 199\n",
              "2       Venezuela                 153\n",
              "3          Mexico                  20\n",
              "4          Taiwan                  19\n",
              "5  United Kingdom                  19\n",
              "6           Japan                  18\n",
              "7       Indonesia                  18\n",
              "8       Australia                  13\n",
              "9     Puerto Rico                  11"
            ]
          },
          "metadata": {
            "tags": []
          },
          "execution_count": 35
        }
      ]
    },
    {
      "cell_type": "code",
      "metadata": {
        "id": "komyZIC1jNQD"
      },
      "source": [
        ""
      ],
      "execution_count": null,
      "outputs": []
    }
  ]
}